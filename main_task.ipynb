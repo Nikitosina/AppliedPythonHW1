{
 "cells": [
  {
   "cell_type": "code",
   "execution_count": 43,
   "id": "05ae7f8d",
   "metadata": {},
   "outputs": [],
   "source": [
    "import pandas as pd\n",
    "import numpy as np\n",
    "\n",
    "# Реальные средние температуры (примерные данные) для городов по сезонам\n",
    "seasonal_temperatures = {\n",
    "    \"New York\": {\"winter\": 0, \"spring\": 10, \"summer\": 25, \"autumn\": 15},\n",
    "    \"London\": {\"winter\": 5, \"spring\": 11, \"summer\": 18, \"autumn\": 12},\n",
    "    \"Paris\": {\"winter\": 4, \"spring\": 12, \"summer\": 20, \"autumn\": 13},\n",
    "    \"Tokyo\": {\"winter\": 6, \"spring\": 15, \"summer\": 27, \"autumn\": 18},\n",
    "    \"Moscow\": {\"winter\": -10, \"spring\": 5, \"summer\": 18, \"autumn\": 8},\n",
    "    \"Sydney\": {\"winter\": 12, \"spring\": 18, \"summer\": 25, \"autumn\": 20},\n",
    "    \"Berlin\": {\"winter\": 0, \"spring\": 10, \"summer\": 20, \"autumn\": 11},\n",
    "    \"Beijing\": {\"winter\": -2, \"spring\": 13, \"summer\": 27, \"autumn\": 16},\n",
    "    \"Rio de Janeiro\": {\"winter\": 20, \"spring\": 25, \"summer\": 30, \"autumn\": 25},\n",
    "    \"Dubai\": {\"winter\": 20, \"spring\": 30, \"summer\": 40, \"autumn\": 30},\n",
    "    \"Los Angeles\": {\"winter\": 15, \"spring\": 18, \"summer\": 25, \"autumn\": 20},\n",
    "    \"Singapore\": {\"winter\": 27, \"spring\": 28, \"summer\": 28, \"autumn\": 27},\n",
    "    \"Mumbai\": {\"winter\": 25, \"spring\": 30, \"summer\": 35, \"autumn\": 30},\n",
    "    \"Cairo\": {\"winter\": 15, \"spring\": 25, \"summer\": 35, \"autumn\": 25},\n",
    "    \"Mexico City\": {\"winter\": 12, \"spring\": 18, \"summer\": 20, \"autumn\": 15},\n",
    "}\n",
    "\n",
    "# Сопоставление месяцев с сезонами\n",
    "month_to_season = {12: \"winter\", 1: \"winter\", 2: \"winter\",\n",
    "                   3: \"spring\", 4: \"spring\", 5: \"spring\",\n",
    "                   6: \"summer\", 7: \"summer\", 8: \"summer\",\n",
    "                   9: \"autumn\", 10: \"autumn\", 11: \"autumn\"}\n",
    "\n",
    "# Генерация данных о температуре\n",
    "def generate_realistic_temperature_data(cities, num_years=10):\n",
    "    dates = pd.date_range(start=\"2010-01-01\", periods=365 * num_years, freq=\"D\")\n",
    "    data = []\n",
    "\n",
    "    for city in cities:\n",
    "        for date in dates:\n",
    "            season = month_to_season[date.month]\n",
    "            mean_temp = seasonal_temperatures[city][season]\n",
    "            # Добавляем случайное отклонение\n",
    "            temperature = np.random.normal(loc=mean_temp, scale=5)\n",
    "            data.append({\"city\": city, \"timestamp\": date, \"temperature\": temperature})\n",
    "\n",
    "    df = pd.DataFrame(data)\n",
    "    df['season'] = df['timestamp'].dt.month.map(lambda x: month_to_season[x])\n",
    "    return df\n",
    "\n",
    "# Генерация данных\n",
    "data = generate_realistic_temperature_data(list(seasonal_temperatures.keys()))\n",
    "data.to_csv('temperature_data.csv', index=False)"
   ]
  },
  {
   "cell_type": "code",
   "execution_count": 44,
   "id": "87ae6b51-87c0-4b80-b4f7-ab107ef20717",
   "metadata": {
    "slideshow": {
     "slide_type": ""
    },
    "tags": []
   },
   "outputs": [],
   "source": [
    "import os\n",
    "import json\n",
    "import requests\n",
    "from pprint import pp\n",
    "import time\n",
    "import asyncio\n",
    "import aiohttp\n",
    "import seaborn as sns\n",
    "import matplotlib.pyplot as plt\n",
    "\n",
    "from joblib import Parallel, delayed\n",
    "from ipywidgets import interact, interact_manual"
   ]
  },
  {
   "cell_type": "code",
   "execution_count": 45,
   "id": "aea60768",
   "metadata": {},
   "outputs": [],
   "source": [
    "import nest_asyncio\n",
    "nest_asyncio.apply()"
   ]
  },
  {
   "cell_type": "markdown",
   "id": "100136e5-73fc-4efa-a9a6-10caa9e81c24",
   "metadata": {},
   "source": [
    "## "
   ]
  },
  {
   "cell_type": "code",
   "execution_count": 46,
   "id": "423f2916-e8f2-4a42-81e6-21b6dac5aac6",
   "metadata": {},
   "outputs": [],
   "source": [
    "df = pd.read_csv(\"temperature_data.csv\")\n",
    "df = df.sort_values(by=[\"city\", \"timestamp\"]).reset_index(drop=True)"
   ]
  },
  {
   "cell_type": "code",
   "execution_count": 47,
   "id": "662dd7bc",
   "metadata": {},
   "outputs": [
    {
     "data": {
      "text/html": [
       "<div>\n",
       "<style scoped>\n",
       "    .dataframe tbody tr th:only-of-type {\n",
       "        vertical-align: middle;\n",
       "    }\n",
       "\n",
       "    .dataframe tbody tr th {\n",
       "        vertical-align: top;\n",
       "    }\n",
       "\n",
       "    .dataframe thead th {\n",
       "        text-align: right;\n",
       "    }\n",
       "</style>\n",
       "<table border=\"1\" class=\"dataframe\">\n",
       "  <thead>\n",
       "    <tr style=\"text-align: right;\">\n",
       "      <th></th>\n",
       "      <th>city</th>\n",
       "      <th>timestamp</th>\n",
       "      <th>temperature</th>\n",
       "      <th>season</th>\n",
       "    </tr>\n",
       "  </thead>\n",
       "  <tbody>\n",
       "    <tr>\n",
       "      <th>0</th>\n",
       "      <td>Beijing</td>\n",
       "      <td>2010-01-01</td>\n",
       "      <td>6.086816</td>\n",
       "      <td>winter</td>\n",
       "    </tr>\n",
       "    <tr>\n",
       "      <th>1</th>\n",
       "      <td>Beijing</td>\n",
       "      <td>2010-01-02</td>\n",
       "      <td>-3.945024</td>\n",
       "      <td>winter</td>\n",
       "    </tr>\n",
       "    <tr>\n",
       "      <th>2</th>\n",
       "      <td>Beijing</td>\n",
       "      <td>2010-01-03</td>\n",
       "      <td>-2.111314</td>\n",
       "      <td>winter</td>\n",
       "    </tr>\n",
       "    <tr>\n",
       "      <th>3</th>\n",
       "      <td>Beijing</td>\n",
       "      <td>2010-01-04</td>\n",
       "      <td>1.876513</td>\n",
       "      <td>winter</td>\n",
       "    </tr>\n",
       "    <tr>\n",
       "      <th>4</th>\n",
       "      <td>Beijing</td>\n",
       "      <td>2010-01-05</td>\n",
       "      <td>-13.639838</td>\n",
       "      <td>winter</td>\n",
       "    </tr>\n",
       "  </tbody>\n",
       "</table>\n",
       "</div>"
      ],
      "text/plain": [
       "      city   timestamp  temperature  season\n",
       "0  Beijing  2010-01-01     6.086816  winter\n",
       "1  Beijing  2010-01-02    -3.945024  winter\n",
       "2  Beijing  2010-01-03    -2.111314  winter\n",
       "3  Beijing  2010-01-04     1.876513  winter\n",
       "4  Beijing  2010-01-05   -13.639838  winter"
      ]
     },
     "execution_count": 47,
     "metadata": {},
     "output_type": "execute_result"
    }
   ],
   "source": [
    "df.head()"
   ]
  },
  {
   "cell_type": "markdown",
   "id": "0248bfe1-f069-452d-9adb-a59a380bfaf1",
   "metadata": {},
   "source": [
    "### Скользящее среднее"
   ]
  },
  {
   "cell_type": "code",
   "execution_count": 48,
   "id": "874fef29-0d6d-48e0-8d23-a09e29426043",
   "metadata": {},
   "outputs": [
    {
     "name": "stdout",
     "output_type": "stream",
     "text": [
      "CPU times: user 0 ns, sys: 0 ns, total: 0 ns\n",
      "Wall time: 1.91 μs\n"
     ]
    },
    {
     "data": {
      "text/html": [
       "<div>\n",
       "<style scoped>\n",
       "    .dataframe tbody tr th:only-of-type {\n",
       "        vertical-align: middle;\n",
       "    }\n",
       "\n",
       "    .dataframe tbody tr th {\n",
       "        vertical-align: top;\n",
       "    }\n",
       "\n",
       "    .dataframe thead th {\n",
       "        text-align: right;\n",
       "    }\n",
       "</style>\n",
       "<table border=\"1\" class=\"dataframe\">\n",
       "  <thead>\n",
       "    <tr style=\"text-align: right;\">\n",
       "      <th></th>\n",
       "      <th>city</th>\n",
       "      <th>timestamp</th>\n",
       "      <th>temperature</th>\n",
       "      <th>season</th>\n",
       "      <th>rolling_mean</th>\n",
       "    </tr>\n",
       "  </thead>\n",
       "  <tbody>\n",
       "    <tr>\n",
       "      <th>0</th>\n",
       "      <td>Beijing</td>\n",
       "      <td>2010-01-01</td>\n",
       "      <td>6.086816</td>\n",
       "      <td>winter</td>\n",
       "      <td>NaN</td>\n",
       "    </tr>\n",
       "    <tr>\n",
       "      <th>1</th>\n",
       "      <td>Beijing</td>\n",
       "      <td>2010-01-02</td>\n",
       "      <td>-3.945024</td>\n",
       "      <td>winter</td>\n",
       "      <td>NaN</td>\n",
       "    </tr>\n",
       "    <tr>\n",
       "      <th>2</th>\n",
       "      <td>Beijing</td>\n",
       "      <td>2010-01-03</td>\n",
       "      <td>-2.111314</td>\n",
       "      <td>winter</td>\n",
       "      <td>NaN</td>\n",
       "    </tr>\n",
       "    <tr>\n",
       "      <th>3</th>\n",
       "      <td>Beijing</td>\n",
       "      <td>2010-01-04</td>\n",
       "      <td>1.876513</td>\n",
       "      <td>winter</td>\n",
       "      <td>NaN</td>\n",
       "    </tr>\n",
       "    <tr>\n",
       "      <th>4</th>\n",
       "      <td>Beijing</td>\n",
       "      <td>2010-01-05</td>\n",
       "      <td>-13.639838</td>\n",
       "      <td>winter</td>\n",
       "      <td>NaN</td>\n",
       "    </tr>\n",
       "  </tbody>\n",
       "</table>\n",
       "</div>"
      ],
      "text/plain": [
       "      city   timestamp  temperature  season rolling_mean\n",
       "0  Beijing  2010-01-01     6.086816  winter          NaN\n",
       "1  Beijing  2010-01-02    -3.945024  winter          NaN\n",
       "2  Beijing  2010-01-03    -2.111314  winter          NaN\n",
       "3  Beijing  2010-01-04     1.876513  winter          NaN\n",
       "4  Beijing  2010-01-05   -13.639838  winter          NaN"
      ]
     },
     "execution_count": 48,
     "metadata": {},
     "output_type": "execute_result"
    }
   ],
   "source": [
    "# 1st: One thread\n",
    "\n",
    "%time\n",
    "df[\"rolling_mean\"] = None\n",
    "for city in df[\"city\"].unique():\n",
    "    df.loc[df.city == city, \"rolling_mean\"] = df.loc[df.city == city, \"temperature\"].rolling(window=30).mean()\n",
    "\n",
    "df.head()"
   ]
  },
  {
   "cell_type": "code",
   "execution_count": 49,
   "id": "b9894a84-7770-4118-9b16-487eb6ad3670",
   "metadata": {},
   "outputs": [],
   "source": [
    "def add_rolling_mean(x):\n",
    "    return x.assign(rolling_mean=x[\"temperature\"].rolling(window=30).mean())"
   ]
  },
  {
   "cell_type": "code",
   "execution_count": 50,
   "id": "d97d129c-b3f2-4baf-bc08-1a2708251099",
   "metadata": {},
   "outputs": [
    {
     "name": "stdout",
     "output_type": "stream",
     "text": [
      "CPU times: user 1e+03 ns, sys: 1 μs, total: 2 μs\n",
      "Wall time: 2.15 μs\n"
     ]
    },
    {
     "data": {
      "text/html": [
       "<div>\n",
       "<style scoped>\n",
       "    .dataframe tbody tr th:only-of-type {\n",
       "        vertical-align: middle;\n",
       "    }\n",
       "\n",
       "    .dataframe tbody tr th {\n",
       "        vertical-align: top;\n",
       "    }\n",
       "\n",
       "    .dataframe thead th {\n",
       "        text-align: right;\n",
       "    }\n",
       "</style>\n",
       "<table border=\"1\" class=\"dataframe\">\n",
       "  <thead>\n",
       "    <tr style=\"text-align: right;\">\n",
       "      <th></th>\n",
       "      <th>city</th>\n",
       "      <th>timestamp</th>\n",
       "      <th>temperature</th>\n",
       "      <th>season</th>\n",
       "      <th>rolling_mean</th>\n",
       "    </tr>\n",
       "  </thead>\n",
       "  <tbody>\n",
       "    <tr>\n",
       "      <th>0</th>\n",
       "      <td>Beijing</td>\n",
       "      <td>2010-01-01</td>\n",
       "      <td>6.086816</td>\n",
       "      <td>winter</td>\n",
       "      <td>NaN</td>\n",
       "    </tr>\n",
       "    <tr>\n",
       "      <th>1</th>\n",
       "      <td>Beijing</td>\n",
       "      <td>2010-01-02</td>\n",
       "      <td>-3.945024</td>\n",
       "      <td>winter</td>\n",
       "      <td>NaN</td>\n",
       "    </tr>\n",
       "    <tr>\n",
       "      <th>2</th>\n",
       "      <td>Beijing</td>\n",
       "      <td>2010-01-03</td>\n",
       "      <td>-2.111314</td>\n",
       "      <td>winter</td>\n",
       "      <td>NaN</td>\n",
       "    </tr>\n",
       "    <tr>\n",
       "      <th>3</th>\n",
       "      <td>Beijing</td>\n",
       "      <td>2010-01-04</td>\n",
       "      <td>1.876513</td>\n",
       "      <td>winter</td>\n",
       "      <td>NaN</td>\n",
       "    </tr>\n",
       "    <tr>\n",
       "      <th>4</th>\n",
       "      <td>Beijing</td>\n",
       "      <td>2010-01-05</td>\n",
       "      <td>-13.639838</td>\n",
       "      <td>winter</td>\n",
       "      <td>NaN</td>\n",
       "    </tr>\n",
       "  </tbody>\n",
       "</table>\n",
       "</div>"
      ],
      "text/plain": [
       "      city   timestamp  temperature  season  rolling_mean\n",
       "0  Beijing  2010-01-01     6.086816  winter           NaN\n",
       "1  Beijing  2010-01-02    -3.945024  winter           NaN\n",
       "2  Beijing  2010-01-03    -2.111314  winter           NaN\n",
       "3  Beijing  2010-01-04     1.876513  winter           NaN\n",
       "4  Beijing  2010-01-05   -13.639838  winter           NaN"
      ]
     },
     "execution_count": 50,
     "metadata": {},
     "output_type": "execute_result"
    }
   ],
   "source": [
    "# 2nd: multiprocessing\n",
    "\n",
    "%time\n",
    "out = Parallel(n_jobs=4)(delayed(add_rolling_mean)(df.loc[df.city == city]) for city in df[\"city\"].unique())\n",
    "df = pd.concat(out)\n",
    "df.head()"
   ]
  },
  {
   "cell_type": "markdown",
   "id": "06c96096-abee-400c-a7f9-5f61332dfaeb",
   "metadata": {},
   "source": [
    "**Результат:** Второй вариант оказался медленнее, скорее всего это происходит из-за дороговизны создания новых тредов по сравнению с простотой выполнения главной таски"
   ]
  },
  {
   "cell_type": "markdown",
   "id": "bbd86cd8-3784-41da-8021-b437d21916ec",
   "metadata": {},
   "source": [
    "### Среднее и отклонение для каждого города и сезона"
   ]
  },
  {
   "cell_type": "code",
   "execution_count": 51,
   "id": "7f622383-81e2-454a-bf0c-3eb10aa7102b",
   "metadata": {},
   "outputs": [
    {
     "data": {
      "text/html": [
       "<div>\n",
       "<style scoped>\n",
       "    .dataframe tbody tr th:only-of-type {\n",
       "        vertical-align: middle;\n",
       "    }\n",
       "\n",
       "    .dataframe tbody tr th {\n",
       "        vertical-align: top;\n",
       "    }\n",
       "\n",
       "    .dataframe thead th {\n",
       "        text-align: right;\n",
       "    }\n",
       "</style>\n",
       "<table border=\"1\" class=\"dataframe\">\n",
       "  <thead>\n",
       "    <tr style=\"text-align: right;\">\n",
       "      <th></th>\n",
       "      <th>city</th>\n",
       "      <th>season</th>\n",
       "      <th>temperature_mean</th>\n",
       "      <th>temperature_std</th>\n",
       "    </tr>\n",
       "  </thead>\n",
       "  <tbody>\n",
       "    <tr>\n",
       "      <th>0</th>\n",
       "      <td>Beijing</td>\n",
       "      <td>autumn</td>\n",
       "      <td>16.150702</td>\n",
       "      <td>5.083753</td>\n",
       "    </tr>\n",
       "    <tr>\n",
       "      <th>1</th>\n",
       "      <td>Beijing</td>\n",
       "      <td>spring</td>\n",
       "      <td>13.278835</td>\n",
       "      <td>5.165594</td>\n",
       "    </tr>\n",
       "    <tr>\n",
       "      <th>2</th>\n",
       "      <td>Beijing</td>\n",
       "      <td>summer</td>\n",
       "      <td>26.751644</td>\n",
       "      <td>5.125755</td>\n",
       "    </tr>\n",
       "    <tr>\n",
       "      <th>3</th>\n",
       "      <td>Beijing</td>\n",
       "      <td>winter</td>\n",
       "      <td>-2.208042</td>\n",
       "      <td>5.176436</td>\n",
       "    </tr>\n",
       "    <tr>\n",
       "      <th>4</th>\n",
       "      <td>Berlin</td>\n",
       "      <td>autumn</td>\n",
       "      <td>11.000420</td>\n",
       "      <td>4.972042</td>\n",
       "    </tr>\n",
       "  </tbody>\n",
       "</table>\n",
       "</div>"
      ],
      "text/plain": [
       "      city  season  temperature_mean  temperature_std\n",
       "0  Beijing  autumn         16.150702         5.083753\n",
       "1  Beijing  spring         13.278835         5.165594\n",
       "2  Beijing  summer         26.751644         5.125755\n",
       "3  Beijing  winter         -2.208042         5.176436\n",
       "4   Berlin  autumn         11.000420         4.972042"
      ]
     },
     "execution_count": 51,
     "metadata": {},
     "output_type": "execute_result"
    }
   ],
   "source": [
    "df_stats = df.groupby(by=[\"city\", \"season\"], as_index=False).agg({\"temperature\": [\"mean\", \"std\"]})\n",
    "df_stats.columns = [\"_\".join(i) if i[1] != \"\" else i[0] for i in df_stats.columns]\n",
    "df_stats.head()"
   ]
  },
  {
   "cell_type": "markdown",
   "id": "49c1fc13-03e1-4148-a0cb-e4f47821cfa5",
   "metadata": {},
   "source": [
    "### Поиск аномалий"
   ]
  },
  {
   "cell_type": "code",
   "execution_count": 52,
   "id": "a348f9a5-a8ba-4d08-bc07-c989776101fc",
   "metadata": {},
   "outputs": [],
   "source": [
    "df = df.merge(df_stats, on=[\"city\", \"season\"], how=\"left\")"
   ]
  },
  {
   "cell_type": "code",
   "execution_count": 53,
   "id": "e0305e50-9b41-4425-a1df-1d452efc69f9",
   "metadata": {},
   "outputs": [],
   "source": [
    "df[\"anomaly\"] = 0\n",
    "\n",
    "condition = ((df[\"temperature\"] < df.temperature_mean - 2 * df.temperature_std) | \n",
    "             (df[\"temperature\"] > df.temperature_mean + 2 * df.temperature_std))\n",
    "\n",
    "df.loc[condition, \"anomaly\"] = 1"
   ]
  },
  {
   "cell_type": "code",
   "execution_count": 91,
   "id": "fd5f6cae-4459-4da1-9f82-c50f3967b301",
   "metadata": {},
   "outputs": [
    {
     "data": {
      "text/html": [
       "<div>\n",
       "<style scoped>\n",
       "    .dataframe tbody tr th:only-of-type {\n",
       "        vertical-align: middle;\n",
       "    }\n",
       "\n",
       "    .dataframe tbody tr th {\n",
       "        vertical-align: top;\n",
       "    }\n",
       "\n",
       "    .dataframe thead th {\n",
       "        text-align: right;\n",
       "    }\n",
       "</style>\n",
       "<table border=\"1\" class=\"dataframe\">\n",
       "  <thead>\n",
       "    <tr style=\"text-align: right;\">\n",
       "      <th></th>\n",
       "      <th>city</th>\n",
       "      <th>timestamp</th>\n",
       "      <th>temperature</th>\n",
       "      <th>season</th>\n",
       "      <th>rolling_mean</th>\n",
       "      <th>temperature_mean</th>\n",
       "      <th>temperature_std</th>\n",
       "      <th>anomaly</th>\n",
       "    </tr>\n",
       "  </thead>\n",
       "  <tbody>\n",
       "    <tr>\n",
       "      <th>4</th>\n",
       "      <td>Beijing</td>\n",
       "      <td>2010-01-05</td>\n",
       "      <td>-13.639838</td>\n",
       "      <td>winter</td>\n",
       "      <td>NaN</td>\n",
       "      <td>-2.208042</td>\n",
       "      <td>5.176436</td>\n",
       "      <td>1</td>\n",
       "    </tr>\n",
       "    <tr>\n",
       "      <th>5</th>\n",
       "      <td>Beijing</td>\n",
       "      <td>2010-01-06</td>\n",
       "      <td>-14.848822</td>\n",
       "      <td>winter</td>\n",
       "      <td>NaN</td>\n",
       "      <td>-2.208042</td>\n",
       "      <td>5.176436</td>\n",
       "      <td>1</td>\n",
       "    </tr>\n",
       "    <tr>\n",
       "      <th>6</th>\n",
       "      <td>Beijing</td>\n",
       "      <td>2010-01-07</td>\n",
       "      <td>-13.696568</td>\n",
       "      <td>winter</td>\n",
       "      <td>NaN</td>\n",
       "      <td>-2.208042</td>\n",
       "      <td>5.176436</td>\n",
       "      <td>1</td>\n",
       "    </tr>\n",
       "    <tr>\n",
       "      <th>69</th>\n",
       "      <td>Beijing</td>\n",
       "      <td>2010-03-11</td>\n",
       "      <td>23.786642</td>\n",
       "      <td>spring</td>\n",
       "      <td>4.067599</td>\n",
       "      <td>13.278835</td>\n",
       "      <td>5.165594</td>\n",
       "      <td>1</td>\n",
       "    </tr>\n",
       "    <tr>\n",
       "      <th>92</th>\n",
       "      <td>Beijing</td>\n",
       "      <td>2010-04-03</td>\n",
       "      <td>0.952930</td>\n",
       "      <td>spring</td>\n",
       "      <td>13.173576</td>\n",
       "      <td>13.278835</td>\n",
       "      <td>5.165594</td>\n",
       "      <td>1</td>\n",
       "    </tr>\n",
       "    <tr>\n",
       "      <th>...</th>\n",
       "      <td>...</td>\n",
       "      <td>...</td>\n",
       "      <td>...</td>\n",
       "      <td>...</td>\n",
       "      <td>...</td>\n",
       "      <td>...</td>\n",
       "      <td>...</td>\n",
       "      <td>...</td>\n",
       "    </tr>\n",
       "    <tr>\n",
       "      <th>54610</th>\n",
       "      <td>Tokyo</td>\n",
       "      <td>2019-08-12</td>\n",
       "      <td>39.330856</td>\n",
       "      <td>summer</td>\n",
       "      <td>27.204592</td>\n",
       "      <td>27.090789</td>\n",
       "      <td>5.102641</td>\n",
       "      <td>1</td>\n",
       "    </tr>\n",
       "    <tr>\n",
       "      <th>54653</th>\n",
       "      <td>Tokyo</td>\n",
       "      <td>2019-09-24</td>\n",
       "      <td>5.852194</td>\n",
       "      <td>autumn</td>\n",
       "      <td>20.201651</td>\n",
       "      <td>18.004716</td>\n",
       "      <td>4.870011</td>\n",
       "      <td>1</td>\n",
       "    </tr>\n",
       "    <tr>\n",
       "      <th>54668</th>\n",
       "      <td>Tokyo</td>\n",
       "      <td>2019-10-09</td>\n",
       "      <td>8.207802</td>\n",
       "      <td>autumn</td>\n",
       "      <td>17.430110</td>\n",
       "      <td>18.004716</td>\n",
       "      <td>4.870011</td>\n",
       "      <td>1</td>\n",
       "    </tr>\n",
       "    <tr>\n",
       "      <th>54692</th>\n",
       "      <td>Tokyo</td>\n",
       "      <td>2019-11-02</td>\n",
       "      <td>4.132312</td>\n",
       "      <td>autumn</td>\n",
       "      <td>17.535162</td>\n",
       "      <td>18.004716</td>\n",
       "      <td>4.870011</td>\n",
       "      <td>1</td>\n",
       "    </tr>\n",
       "    <tr>\n",
       "      <th>54693</th>\n",
       "      <td>Tokyo</td>\n",
       "      <td>2019-11-03</td>\n",
       "      <td>8.151800</td>\n",
       "      <td>autumn</td>\n",
       "      <td>16.996943</td>\n",
       "      <td>18.004716</td>\n",
       "      <td>4.870011</td>\n",
       "      <td>1</td>\n",
       "    </tr>\n",
       "  </tbody>\n",
       "</table>\n",
       "<p>2512 rows × 8 columns</p>\n",
       "</div>"
      ],
      "text/plain": [
       "          city   timestamp  temperature  season  rolling_mean  \\\n",
       "4      Beijing  2010-01-05   -13.639838  winter           NaN   \n",
       "5      Beijing  2010-01-06   -14.848822  winter           NaN   \n",
       "6      Beijing  2010-01-07   -13.696568  winter           NaN   \n",
       "69     Beijing  2010-03-11    23.786642  spring      4.067599   \n",
       "92     Beijing  2010-04-03     0.952930  spring     13.173576   \n",
       "...        ...         ...          ...     ...           ...   \n",
       "54610    Tokyo  2019-08-12    39.330856  summer     27.204592   \n",
       "54653    Tokyo  2019-09-24     5.852194  autumn     20.201651   \n",
       "54668    Tokyo  2019-10-09     8.207802  autumn     17.430110   \n",
       "54692    Tokyo  2019-11-02     4.132312  autumn     17.535162   \n",
       "54693    Tokyo  2019-11-03     8.151800  autumn     16.996943   \n",
       "\n",
       "       temperature_mean  temperature_std  anomaly  \n",
       "4             -2.208042         5.176436        1  \n",
       "5             -2.208042         5.176436        1  \n",
       "6             -2.208042         5.176436        1  \n",
       "69            13.278835         5.165594        1  \n",
       "92            13.278835         5.165594        1  \n",
       "...                 ...              ...      ...  \n",
       "54610         27.090789         5.102641        1  \n",
       "54653         18.004716         4.870011        1  \n",
       "54668         18.004716         4.870011        1  \n",
       "54692         18.004716         4.870011        1  \n",
       "54693         18.004716         4.870011        1  \n",
       "\n",
       "[2512 rows x 8 columns]"
      ]
     },
     "execution_count": 91,
     "metadata": {},
     "output_type": "execute_result"
    }
   ],
   "source": [
    "df[df.anomaly == 1]"
   ]
  },
  {
   "cell_type": "markdown",
   "id": "508ec207",
   "metadata": {},
   "source": [
    "Видим, что в нашем датасете 2512 аномалий"
   ]
  },
  {
   "cell_type": "markdown",
   "id": "4f7141ff-4bfb-426a-9f96-8c5846e3ccda",
   "metadata": {},
   "source": [
    "## OpenWeatherMap API"
   ]
  },
  {
   "cell_type": "code",
   "execution_count": 75,
   "id": "584e3cb5-d16d-4153-bac1-076112d5f908",
   "metadata": {},
   "outputs": [
    {
     "data": {
      "text/plain": [
       "True"
      ]
     },
     "execution_count": 75,
     "metadata": {},
     "output_type": "execute_result"
    }
   ],
   "source": [
    "from dotenv import load_dotenv\n",
    "load_dotenv()"
   ]
  },
  {
   "cell_type": "code",
   "execution_count": 82,
   "id": "1ba0a16b-529b-4766-be1d-8415292e6983",
   "metadata": {},
   "outputs": [],
   "source": [
    "API_KEY = os.getenv(\"OpenWeatherMapAPIKey\")\n",
    "URL_TEMPLATE = \"https://api.openweathermap.org/data/2.5/weather?q={city}&units=metric&appid={API_KEY}\""
   ]
  },
  {
   "cell_type": "markdown",
   "id": "1304c3c5",
   "metadata": {},
   "source": [
    "### Текущая температура воздуха"
   ]
  },
  {
   "cell_type": "code",
   "execution_count": 83,
   "id": "23d0d767-bf14-4c8f-ae7c-785e00c912cb",
   "metadata": {},
   "outputs": [
    {
     "data": {
      "application/vnd.jupyter.widget-view+json": {
       "model_id": "88c93874537648e7ab7368f34cfc4784",
       "version_major": 2,
       "version_minor": 0
      },
      "text/plain": [
       "interactive(children=(Dropdown(description='city', options=('Beijing', 'Berlin', 'Cairo', 'Dubai', 'London', '…"
      ]
     },
     "metadata": {},
     "output_type": "display_data"
    }
   ],
   "source": [
    "@interact\n",
    "def show_current_weather(city=df[\"city\"].unique()):\n",
    "    resp = requests.get(URL_TEMPLATE.format(\n",
    "        city=city,\n",
    "        API_KEY=API_KEY\n",
    "    ))\n",
    "    pp(json.loads(resp.text))"
   ]
  },
  {
   "cell_type": "code",
   "execution_count": 84,
   "id": "9c9a6b44",
   "metadata": {},
   "outputs": [
    {
     "name": "stdout",
     "output_type": "stream",
     "text": [
      "{'coord': {'lon': 37.6156, 'lat': 55.7522},\n",
      " 'weather': [{'id': 801,\n",
      "              'main': 'Clouds',\n",
      "              'description': 'few clouds',\n",
      "              'icon': '02n'}],\n",
      " 'base': 'stations',\n",
      " 'main': {'temp': -2.76,\n",
      "          'feels_like': -6.84,\n",
      "          'temp_min': -2.76,\n",
      "          'temp_max': -2.71,\n",
      "          'pressure': 1015,\n",
      "          'humidity': 95,\n",
      "          'sea_level': 1015,\n",
      "          'grnd_level': 994},\n",
      " 'visibility': 10000,\n",
      " 'wind': {'speed': 3.02, 'deg': 222, 'gust': 9.11},\n",
      " 'clouds': {'all': 11},\n",
      " 'dt': 1734803519,\n",
      " 'sys': {'type': 1,\n",
      "         'id': 9027,\n",
      "         'country': 'RU',\n",
      "         'sunrise': 1734760662,\n",
      "         'sunset': 1734785862},\n",
      " 'timezone': 10800,\n",
      " 'id': 524901,\n",
      " 'name': 'Moscow',\n",
      " 'cod': 200}\n"
     ]
    }
   ],
   "source": [
    "show_current_weather(\"Moscow\")"
   ]
  },
  {
   "cell_type": "markdown",
   "id": "f94af426",
   "metadata": {},
   "source": [
    "### Detect anomalies"
   ]
  },
  {
   "cell_type": "code",
   "execution_count": 85,
   "id": "f69b8c82",
   "metadata": {},
   "outputs": [
    {
     "data": {
      "application/vnd.jupyter.widget-view+json": {
       "model_id": "f7b1055ca5c9450cafc606a7b1a28a68",
       "version_major": 2,
       "version_minor": 0
      },
      "text/plain": [
       "interactive(children=(Dropdown(description='city', options=('Beijing', 'Berlin', 'Cairo', 'Dubai', 'London', '…"
      ]
     },
     "metadata": {},
     "output_type": "display_data"
    }
   ],
   "source": [
    "@interact\n",
    "def show_current_weather_with_anomalies(city=df[\"city\"].unique()):\n",
    "    resp = requests.get(URL_TEMPLATE.format(\n",
    "        city=city,\n",
    "        API_KEY=API_KEY\n",
    "    ))\n",
    "    curr_temp = json.loads(resp.text)[\"main\"][\"temp\"]\n",
    "    normal_mean, normal_std = (df_stats\n",
    "                   .loc[(df_stats.city == city) & (df_stats.season == \"winter\"),\n",
    "                        [\"temperature_mean\", \"temperature_std\"]]\n",
    "                   .values[0])\n",
    "    is_anomaly_detected = \"not detected\"\n",
    "    if (curr_temp > normal_mean + 2 * normal_std) or (curr_temp < normal_mean - 2 * normal_std):\n",
    "        is_anomaly_detected = \"detected\"\n",
    "    \n",
    "    print(f\"City: {city}\")\n",
    "    print(f\"Normal temperture bounds: ({normal_mean - 2 * normal_std} 'C, {normal_mean + 2 * normal_std} 'C)\")\n",
    "    print(f\"Current temperature: {curr_temp} 'C, Anomaly {is_anomaly_detected}\")"
   ]
  },
  {
   "cell_type": "code",
   "execution_count": 90,
   "id": "cee23fe8",
   "metadata": {},
   "outputs": [
    {
     "name": "stdout",
     "output_type": "stream",
     "text": [
      "City: Beijing\n",
      "Normal temperture bounds: (-12.560913883061323 'C, 8.144830438081451 'C)\n",
      "Current temperature: -3.06 'C, Anomaly not detected\n",
      "City: Berlin\n",
      "Normal temperture bounds: (-10.109502329353356 'C, 9.801769250553912 'C)\n",
      "Current temperature: 6.08 'C, Anomaly not detected\n",
      "City: Cairo\n",
      "Normal temperture bounds: (4.883100981851358 'C, 25.31540048343649 'C)\n",
      "Current temperature: 19.42 'C, Anomaly not detected\n",
      "City: Dubai\n",
      "Normal temperture bounds: (10.369670910123304 'C, 29.544855431264168 'C)\n",
      "Current temperature: 20.96 'C, Anomaly not detected\n",
      "City: London\n",
      "Normal temperture bounds: (-5.064007036223989 'C, 14.926387036769876 'C)\n",
      "Current temperature: 9.84 'C, Anomaly not detected\n",
      "City: Los Angeles\n",
      "Normal temperture bounds: (4.8455100400020665 'C, 25.10317590533984 'C)\n",
      "Current temperature: 17.27 'C, Anomaly not detected\n",
      "City: Mexico City\n",
      "Normal temperture bounds: (2.128553904571735 'C, 22.35786562537335 'C)\n",
      "Current temperature: 16.64 'C, Anomaly not detected\n",
      "City: Moscow\n",
      "Normal temperture bounds: (-20.02305236917853 'C, 0.036678323033314086 'C)\n",
      "Current temperature: -2.76 'C, Anomaly not detected\n",
      "City: Mumbai\n",
      "Normal temperture bounds: (15.175449814560894 'C, 34.686250395163896 'C)\n",
      "Current temperature: 23.99 'C, Anomaly not detected\n",
      "City: New York\n",
      "Normal temperture bounds: (-9.883730392619556 'C, 9.8296696682752 'C)\n",
      "Current temperature: -1.43 'C, Anomaly not detected\n",
      "City: Paris\n",
      "Normal temperture bounds: (-5.615505602320158 'C, 14.630061978555776 'C)\n",
      "Current temperature: 9.54 'C, Anomaly not detected\n",
      "City: Rio de Janeiro\n",
      "Normal temperture bounds: (10.328344100122447 'C, 29.90098799295399 'C)\n",
      "Current temperature: 29.03 'C, Anomaly not detected\n",
      "City: Singapore\n",
      "Normal temperture bounds: (16.861971579561704 'C, 37.21583156651836 'C)\n",
      "Current temperature: 25.68 'C, Anomaly not detected\n",
      "City: Sydney\n",
      "Normal temperture bounds: (1.5172302022961972 'C, 22.16665907700923 'C)\n",
      "Current temperature: 20.53 'C, Anomaly not detected\n",
      "City: Tokyo\n",
      "Normal temperture bounds: (-4.3948551773890125 'C, 16.035110790718974 'C)\n",
      "Current temperature: 8.6 'C, Anomaly not detected\n"
     ]
    }
   ],
   "source": [
    "for city in df[\"city\"].unique():\n",
    "    show_current_weather_with_anomalies(city)"
   ]
  },
  {
   "cell_type": "markdown",
   "id": "d39f4fb6",
   "metadata": {},
   "source": [
    "После проверки городов, мы не видим аномалий"
   ]
  },
  {
   "cell_type": "markdown",
   "id": "0b080a83",
   "metadata": {},
   "source": [
    "### Проверяем синхронные и асинхронные запросы"
   ]
  },
  {
   "cell_type": "markdown",
   "id": "e6a4172e",
   "metadata": {},
   "source": [
    "Достанем погоду для всех городов"
   ]
  },
  {
   "cell_type": "code",
   "execution_count": 87,
   "id": "a39513ba",
   "metadata": {},
   "outputs": [
    {
     "name": "stdout",
     "output_type": "stream",
     "text": [
      "Sync time: 3.33 sec.\n"
     ]
    }
   ],
   "source": [
    "def get_weather_synch(city):\n",
    "    resp = requests.get(URL_TEMPLATE.format(\n",
    "        city=city,\n",
    "        API_KEY=API_KEY\n",
    "    ))\n",
    "    return json.loads(resp.text)\n",
    "\n",
    "start = time.time()\n",
    "for city in df.city.unique():\n",
    "    get_weather_synch(city)\n",
    "end = time.time()\n",
    "print(f\"Sync time: {end - start:.2f} sec.\")"
   ]
  },
  {
   "cell_type": "code",
   "execution_count": 88,
   "id": "e26b2276",
   "metadata": {},
   "outputs": [
    {
     "name": "stdout",
     "output_type": "stream",
     "text": [
      "Async time: 0.62 sec.\n"
     ]
    }
   ],
   "source": [
    "async def get_weather_asynch(city):\n",
    "    url = URL_TEMPLATE.format(\n",
    "        city=city,\n",
    "        API_KEY=API_KEY\n",
    "    )\n",
    "    async with aiohttp.ClientSession() as session:\n",
    "        async with session.get(url) as response:\n",
    "                content = await response.text()\n",
    "                return json.loads(content)\n",
    "            \n",
    "start = time.time()\n",
    "await asyncio.gather(*[get_weather_asynch(city) for city in df.city.unique()])\n",
    "end = time.time()\n",
    "print(f\"Async time: {end - start:.2f} sec.\")"
   ]
  },
  {
   "cell_type": "markdown",
   "id": "263ee62b",
   "metadata": {},
   "source": [
    "**Async** намного быстрее **Sync**, что в целом ожидаемо"
   ]
  }
 ],
 "metadata": {
  "kernelspec": {
   "display_name": "vila",
   "language": "python",
   "name": "python3"
  },
  "language_info": {
   "codemirror_mode": {
    "name": "ipython",
    "version": 3
   },
   "file_extension": ".py",
   "mimetype": "text/x-python",
   "name": "python",
   "nbconvert_exporter": "python",
   "pygments_lexer": "ipython3",
   "version": "3.10.14"
  }
 },
 "nbformat": 4,
 "nbformat_minor": 5
}
